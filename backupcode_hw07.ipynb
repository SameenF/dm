{
 "cells": [
  {
   "cell_type": "markdown",
   "source": [
    "Dear tutor, there is something wrong with my IDE. I can change the file locally but cannot save my solution.\n",
    "I also tried to upload my code to my personal Github repository but still cannot save the local change.\n",
    "Although I could save the result of my spark code.\n",
    "\n",
    "So I will put my code in this file. If you copy them to the original \"hw07.ipynb\" file and run, it should be fine.\n",
    "All of the solution could get the right result.\n",
    "Thanks so much. I am so sorry for this problem.\n",
    "\n"
   ],
   "metadata": {
    "collapsed": false
   },
   "id": "38b2439a33ce500f"
  },
  {
   "cell_type": "code",
   "execution_count": 1,
   "outputs": [
    {
     "name": "stderr",
     "output_type": "stream",
     "text": [
      "Setting default log level to \"WARN\".\n",
      "To adjust logging level use sc.setLogLevel(newLevel). For SparkR, use setLogLevel(newLevel).\n",
      "24/05/30 17:56:37 WARN NativeCodeLoader: Unable to load native-hadoop library for your platform... using builtin-java classes where applicable\n",
      "24/05/30 17:56:38 WARN Utils: Service 'SparkUI' could not bind on port 4040. Attempting port 4041.\n"
     ]
    },
    {
     "data": {
      "text/plain": "<pyspark.sql.session.SparkSession at 0x105e0ab40>",
      "text/html": "\n            <div>\n                <p><b>SparkSession - in-memory</b></p>\n                \n        <div>\n            <p><b>SparkContext</b></p>\n\n            <p><a href=\"http://sameen-macbook.fritz.box:4041\">Spark UI</a></p>\n\n            <dl>\n              <dt>Version</dt>\n                <dd><code>v3.5.1</code></dd>\n              <dt>Master</dt>\n                <dd><code>local</code></dd>\n              <dt>AppName</dt>\n                <dd><code>Homework 07</code></dd>\n            </dl>\n        </div>\n        \n            </div>\n        "
     },
     "execution_count": 1,
     "metadata": {},
     "output_type": "execute_result"
    }
   ],
   "source": [
    "from pyspark.sql import SparkSession\n",
    "from pyspark.sql.functions import *\n",
    "\n",
    "# when run locally, spark has one (master) node with its own jvm and no cluster manager is created\n",
    "spark = SparkSession.builder.master(\"local\").appName(\"Homework 07\").getOrCreate()\n",
    "\n",
    "spark"
   ],
   "metadata": {
    "collapsed": false,
    "ExecuteTime": {
     "end_time": "2024-05-30T15:56:39.226084Z",
     "start_time": "2024-05-30T15:56:35.556164Z"
    }
   },
   "id": "daf62a7cbe9ac122"
  },
  {
   "cell_type": "markdown",
   "source": [
    "## Define Helper Function"
   ],
   "metadata": {
    "collapsed": false
   },
   "id": "a56c20035f3ec741"
  },
  {
   "cell_type": "code",
   "execution_count": 2,
   "outputs": [],
   "source": [
    "# load table from TPCxx-BB dataset. Returning a dataframe read from parquet format\n",
    "get_table = lambda table: spark.read.option(\"header\", \"true\").parquet(\n",
    "    f\"TPCx-BB-dataset/{table}.ptxt\"\n",
    ")"
   ],
   "metadata": {
    "collapsed": false,
    "ExecuteTime": {
     "end_time": "2024-05-30T15:56:45.212448Z",
     "start_time": "2024-05-30T15:56:45.209787Z"
    }
   },
   "id": "c5679aca4a51d9c"
  },
  {
   "cell_type": "markdown",
   "source": [
    "## 1. Query 07\n",
    "List top 10 states in descending order with at least 10 customers who during a given month bought products with the price tag at least 20% higher than the average price of products in the same category."
   ],
   "metadata": {
    "collapsed": false
   },
   "id": "e75d8a6ffa99c261"
  },
  {
   "cell_type": "code",
   "execution_count": 3,
   "outputs": [
    {
     "name": "stderr",
     "output_type": "stream",
     "text": [
      "                                                                                \r"
     ]
    },
    {
     "name": "stdout",
     "output_type": "stream",
     "text": [
      "+--------+---+\n",
      "|ca_state|cnt|\n",
      "+--------+---+\n",
      "|      TX|396|\n",
      "|      GA|247|\n",
      "|      VA|233|\n",
      "|      IL|205|\n",
      "|      KY|176|\n",
      "|      KS|170|\n",
      "|      NC|164|\n",
      "|      IA|163|\n",
      "|      MO|156|\n",
      "|      AL|139|\n",
      "+--------+---+\n"
     ]
    }
   ],
   "source": [
    "# implementation\n",
    "\n",
    "item = get_table(\"item\")\n",
    "\n",
    "# Define high price ratio\n",
    "q07_HIGHER_PRICE_RATIO = 1.2\n",
    "\n",
    "# Calculate the average price for each category and calculate the high price threshold\n",
    "category_avg_price = item.groupBy(\"i_category\").agg(\n",
    "    (avg(\"i_current_price\") * q07_HIGHER_PRICE_RATIO).alias(\"avg_price\")\n",
    ")\n",
    "\n",
    "# Rename columns to avoid column name conflicts when joining\n",
    "item = item.withColumnRenamed(\"i_category\", \"item_category\")\n",
    "item = item.withColumnRenamed(\"i_current_price\", \"item_price\")\n",
    "\n",
    "# Connect DataFrame and filter out high-priced items\n",
    "high_price_items = (item.join(category_avg_price, item.item_category == category_avg_price.i_category)\n",
    "    .filter(item.item_price > category_avg_price.avg_price)\n",
    "    .select(item.i_item_sk)\n",
    ")\n",
    "\n",
    "customer_address = get_table(\"customer_address\")\n",
    "customer = get_table(\"customer\")\n",
    "store_sales = get_table(\"store_sales\")\n",
    "date_dim = get_table(\"date_dim\")\n",
    "\n",
    "q07_YEAR = 2004\n",
    "q07_MONTH = 7\n",
    "q07_HAVING_COUNT_GE = 10\n",
    "q07_LIMIT = 10\n",
    "\n",
    "# Extract all dates of a specific month from date_dim\n",
    "selected_dates = date_dim.filter(\n",
    "    (date_dim.d_year == q07_YEAR) & (date_dim.d_moy == q07_MONTH)\n",
    ").select(\"d_date_sk\").rdd.map(lambda row: row[0]).collect()\n",
    "\n",
    "query7_solution = (customer_address\n",
    "    .join(customer, customer_address.ca_address_sk == customer.c_current_addr_sk)\n",
    "    .join(store_sales, customer.c_customer_sk == store_sales.ss_customer_sk)\n",
    "    .join(high_price_items, store_sales.ss_item_sk == high_price_items.i_item_sk)\n",
    "    .filter(store_sales.ss_sold_date_sk.isin(selected_dates))\n",
    "    .filter(customer_address.ca_state.isNotNull())\n",
    "    .groupBy(customer_address.ca_state)\n",
    "    .agg(count(\"*\").alias(\"cnt\"))\n",
    "    .filter(col(\"cnt\") >= q07_HAVING_COUNT_GE)\n",
    "    .orderBy(col(\"cnt\"), ascending=False)\n",
    "    .limit(q07_LIMIT)\n",
    ")\n",
    "\n",
    "query7_solution.show()\n"
   ],
   "metadata": {
    "collapsed": false,
    "ExecuteTime": {
     "end_time": "2024-05-30T15:57:02.380453Z",
     "start_time": "2024-05-30T15:56:55.809131Z"
    }
   },
   "id": "f978a5c52e5e01a3"
  },
  {
   "cell_type": "code",
   "execution_count": 4,
   "outputs": [
    {
     "name": "stdout",
     "output_type": "stream",
     "text": [
      "TX,396\r\n",
      "GA,247\r\n",
      "VA,233\r\n",
      "IL,205\r\n",
      "KY,176\r\n",
      "KS,170\r\n",
      "NC,164\r\n",
      "IA,163\r\n",
      "MO,156\r\n",
      "AL,139\r\n"
     ]
    }
   ],
   "source": [
    "# check the result\n",
    "!cat queries/q07/results/q07-result"
   ],
   "metadata": {
    "collapsed": false,
    "ExecuteTime": {
     "end_time": "2024-05-30T15:57:07.457630Z",
     "start_time": "2024-05-30T15:57:07.316227Z"
    }
   },
   "id": "e4b2b5b57d0a8d8a"
  },
  {
   "cell_type": "markdown",
   "source": [
    "## 2. Modify the dataframe resulted from query 07:"
   ],
   "metadata": {
    "collapsed": false
   },
   "id": "aec458e86cd3d5c9"
  },
  {
   "cell_type": "markdown",
   "source": [
    "### 2(a) \n",
    "Add a column named ”hw07_id” and insert your own student id number (written in your USI badge e.g. 12-345-678) only in the record row where the state is Georgia. Print your result."
   ],
   "metadata": {
    "collapsed": false
   },
   "id": "d484127d23551247"
  },
  {
   "cell_type": "code",
   "execution_count": 5,
   "outputs": [
    {
     "name": "stdout",
     "output_type": "stream",
     "text": [
      "+--------+---+----------+\n",
      "|ca_state|cnt|   hw07_id|\n",
      "+--------+---+----------+\n",
      "|      TX|396|      NULL|\n",
      "|      GA|247|22-981-591|\n",
      "|      VA|233|      NULL|\n",
      "|      IL|205|      NULL|\n",
      "|      KY|176|      NULL|\n",
      "|      KS|170|      NULL|\n",
      "|      NC|164|      NULL|\n",
      "|      IA|163|      NULL|\n",
      "|      MO|156|      NULL|\n",
      "|      AL|139|      NULL|\n",
      "+--------+---+----------+\n"
     ]
    }
   ],
   "source": [
    "modified_a = query7_solution.withColumn(\n",
    "    \"hw07_id\", \n",
    "    when(col(\"ca_state\") == \"GA\", \"22-981-591\").otherwise(None)\n",
    ")\n",
    "modified_a.show()"
   ],
   "metadata": {
    "collapsed": false,
    "ExecuteTime": {
     "end_time": "2024-05-30T15:57:20.076253Z",
     "start_time": "2024-05-30T15:57:18.768526Z"
    }
   },
   "id": "ad676ff1fba0919"
  },
  {
   "cell_type": "markdown",
   "source": [
    "### 2(b)\n",
    "Add another column named ”hw07_surname” and insert your surname only where the count aggregate field attribute is greater than 200. Print your result."
   ],
   "metadata": {
    "collapsed": false
   },
   "id": "505cfd2ee244795e"
  },
  {
   "cell_type": "code",
   "execution_count": 7,
   "outputs": [
    {
     "name": "stdout",
     "output_type": "stream",
     "text": [
      "+--------+---+----------+------------+\n",
      "|ca_state|cnt|   hw07_id|hw07_surname|\n",
      "+--------+---+----------+------------+\n",
      "|      TX|396|      NULL|        Feng|\n",
      "|      GA|247|22-981-591|        Feng|\n",
      "|      VA|233|      NULL|        Feng|\n",
      "|      IL|205|      NULL|        Feng|\n",
      "|      KY|176|      NULL|        NULL|\n",
      "|      KS|170|      NULL|        NULL|\n",
      "|      NC|164|      NULL|        NULL|\n",
      "|      IA|163|      NULL|        NULL|\n",
      "|      MO|156|      NULL|        NULL|\n",
      "|      AL|139|      NULL|        NULL|\n",
      "+--------+---+----------+------------+\n"
     ]
    }
   ],
   "source": [
    "modified_b = modified_a.withColumn(\n",
    "    \"hw07_surname\",\n",
    "    when(col(\"cnt\") > 200, \"Feng\").otherwise(None)\n",
    ")\n",
    "modified_b.show()"
   ],
   "metadata": {
    "collapsed": false,
    "ExecuteTime": {
     "end_time": "2024-05-30T16:00:48.475898Z",
     "start_time": "2024-05-30T16:00:47.174679Z"
    }
   },
   "id": "efa9661153eda8f9"
  },
  {
   "cell_type": "markdown",
   "source": [
    "### 2(c)\n",
    "Remove records containing null missing value in the ”hw07_surname” column. Print your result."
   ],
   "metadata": {
    "collapsed": false
   },
   "id": "5ec3828fe6661774"
  },
  {
   "cell_type": "code",
   "execution_count": 8,
   "outputs": [
    {
     "name": "stdout",
     "output_type": "stream",
     "text": [
      "+--------+---+----------+------------+\n",
      "|ca_state|cnt|   hw07_id|hw07_surname|\n",
      "+--------+---+----------+------------+\n",
      "|      TX|396|      NULL|        Feng|\n",
      "|      GA|247|22-981-591|        Feng|\n",
      "|      VA|233|      NULL|        Feng|\n",
      "|      IL|205|      NULL|        Feng|\n",
      "+--------+---+----------+------------+\n"
     ]
    }
   ],
   "source": [
    "modified_c = modified_b.filter(col(\"hw07_surname\").isNotNull())\n",
    "modified_c.show()"
   ],
   "metadata": {
    "collapsed": false,
    "ExecuteTime": {
     "end_time": "2024-05-30T16:01:09.504739Z",
     "start_time": "2024-05-30T16:01:08.089622Z"
    }
   },
   "id": "6dfd8bed2f5c373a"
  },
  {
   "cell_type": "markdown",
   "source": [
    "### 2(d)\n",
    "Replace the null missing values with the string ”-”. Print your result."
   ],
   "metadata": {
    "collapsed": false
   },
   "id": "e830f73fa58d6caa"
  },
  {
   "cell_type": "code",
   "execution_count": 9,
   "outputs": [
    {
     "name": "stdout",
     "output_type": "stream",
     "text": [
      "+--------+---+----------+------------+\n",
      "|ca_state|cnt|   hw07_id|hw07_surname|\n",
      "+--------+---+----------+------------+\n",
      "|      TX|396|      NULL|        Feng|\n",
      "|      GA|247|22-981-591|        Feng|\n",
      "|      VA|233|      NULL|        Feng|\n",
      "|      IL|205|      NULL|        Feng|\n",
      "|      KY|176|      NULL|           -|\n",
      "|      KS|170|      NULL|           -|\n",
      "|      NC|164|      NULL|           -|\n",
      "|      IA|163|      NULL|           -|\n",
      "|      MO|156|      NULL|           -|\n",
      "|      AL|139|      NULL|           -|\n",
      "+--------+---+----------+------------+\n"
     ]
    }
   ],
   "source": [
    "modified_d = modified_b.na.fill({\"hw07_surname\": \"-\"})\n",
    "modified_d.show()"
   ],
   "metadata": {
    "collapsed": false,
    "ExecuteTime": {
     "end_time": "2024-05-30T16:02:23.793274Z",
     "start_time": "2024-05-30T16:02:23.062456Z"
    }
   },
   "id": "a45bf97046ac2d25"
  },
  {
   "cell_type": "markdown",
   "source": [
    "## 3. Query 09\n",
    "Aggregate total amount of sold items over different given types of combinations of customers based on selected groups of marital status, education status, sales price and different combinations of state and sales profit."
   ],
   "metadata": {
    "collapsed": false
   },
   "id": "48cdf02d5c21a3bc"
  },
  {
   "cell_type": "code",
   "execution_count": 12,
   "outputs": [
    {
     "name": "stdout",
     "output_type": "stream",
     "text": [
      "+--------------+\n",
      "|total_quantity|\n",
      "+--------------+\n",
      "|        5900.0|\n",
      "+--------------+\n"
     ]
    }
   ],
   "source": [
    "store_sales = get_table(\"store_sales\")\n",
    "date_dim = get_table(\"date_dim\")\n",
    "customer_address = get_table(\"customer_address\")\n",
    "store = get_table(\"store\")\n",
    "customer_demographics = get_table(\"customer_demographics\")\n",
    "\n",
    "q09_year = 2001\n",
    "\n",
    "q09_part1_ca_country = \"United States\"\n",
    "q09_part1_ca_state_IN = ['KY', 'GA', 'NM']\n",
    "q09_part1_net_profit_min = 0\n",
    "q09_part1_net_profit_max = 2000\n",
    "q09_part1_education_status = \"4 yr Degree\"\n",
    "q09_part1_marital_status = \"M\"\n",
    "q09_part1_sales_price_min = 100\n",
    "q09_part1_sales_price_max = 150\n",
    "\n",
    "q09_part2_ca_country = \"United States\"\n",
    "q09_part2_ca_state_IN = ['MT', 'OR', 'IN']\n",
    "q09_part2_net_profit_min = 150\n",
    "q09_part2_net_profit_max = 3000\n",
    "q09_part2_education_status = \"4 yr Degree\"\n",
    "q09_part2_marital_status = \"M\"\n",
    "q09_part2_sales_price_min = 50\n",
    "q09_part2_sales_price_max = 200\n",
    "\n",
    "q09_part3_ca_country = \"United States\"\n",
    "q09_part3_ca_state_IN = ['WI', 'MO', 'WV']\n",
    "q09_part3_net_profit_min = 50\n",
    "q09_part3_net_profit_max = 25000\n",
    "q09_part3_education_status = \"4 yr Degree\"\n",
    "q09_part3_marital_status = \"M\"\n",
    "q09_part3_sales_price_min = 150\n",
    "q09_part3_sales_price_max = 200\n",
    "\n",
    "# Join conditions and filtering\n",
    "query9_solution = store_sales.join(date_dim, store_sales.ss_sold_date_sk == date_dim.d_date_sk) \\\n",
    "    .join(customer_address, store_sales.ss_addr_sk == customer_address.ca_address_sk) \\\n",
    "    .join(store, store.s_store_sk == store_sales.ss_store_sk) \\\n",
    "    .join(customer_demographics, customer_demographics.cd_demo_sk == store_sales.ss_cdemo_sk) \\\n",
    "    .filter(\n",
    "        (date_dim.d_year == q09_year) &\n",
    "        (\n",
    "            (\n",
    "                (customer_demographics.cd_marital_status == q09_part1_marital_status) &\n",
    "                (customer_demographics.cd_education_status == q09_part1_education_status) &\n",
    "                (store_sales.ss_sales_price.between(q09_part1_sales_price_min, q09_part1_sales_price_max))\n",
    "            ) |\n",
    "            (\n",
    "                (customer_demographics.cd_marital_status == q09_part2_marital_status) &\n",
    "                (customer_demographics.cd_education_status == q09_part2_education_status) &\n",
    "                (store_sales.ss_sales_price.between(q09_part2_sales_price_min, q09_part2_sales_price_max))\n",
    "            ) |\n",
    "            (\n",
    "                (customer_demographics.cd_marital_status == q09_part3_marital_status) &\n",
    "                (customer_demographics.cd_education_status == q09_part3_education_status) &\n",
    "                (store_sales.ss_sales_price.between(q09_part3_sales_price_min, q09_part3_sales_price_max))\n",
    "            )\n",
    "        ) &\n",
    "        (\n",
    "            (\n",
    "                (customer_address.ca_country == q09_part1_ca_country) &\n",
    "                (customer_address.ca_state.isin(q09_part1_ca_state_IN)) &\n",
    "                (store_sales.ss_net_profit.between(q09_part1_net_profit_min, q09_part1_net_profit_max))\n",
    "            ) |\n",
    "            (\n",
    "                (customer_address.ca_country == q09_part2_ca_country) &\n",
    "                (customer_address.ca_state.isin(q09_part2_ca_state_IN)) &\n",
    "                (store_sales.ss_net_profit.between(q09_part2_net_profit_min, q09_part2_net_profit_max))\n",
    "            ) |\n",
    "            (\n",
    "                (customer_address.ca_country == q09_part3_ca_country) &\n",
    "                (customer_address.ca_state.isin(q09_part3_ca_state_IN)) &\n",
    "                (store_sales.ss_net_profit.between(q09_part3_net_profit_min, q09_part3_net_profit_max))\n",
    "            )\n",
    "        )\n",
    "    ) \\\n",
    "    .agg(sum(\"ss_quantity\").alias(\"total_quantity\"))\n",
    "\n",
    "query9_solution.show()\n"
   ],
   "metadata": {
    "collapsed": false,
    "ExecuteTime": {
     "end_time": "2024-05-30T16:10:37.700153Z",
     "start_time": "2024-05-30T16:10:36.119614Z"
    }
   },
   "id": "f71f897163570e4"
  },
  {
   "cell_type": "code",
   "execution_count": 13,
   "outputs": [
    {
     "name": "stdout",
     "output_type": "stream",
     "text": [
      "5900\r\n"
     ]
    }
   ],
   "source": [
    "# check the result\n",
    "!cat queries/q09/results/q09-result"
   ],
   "metadata": {
    "collapsed": false,
    "ExecuteTime": {
     "end_time": "2024-05-30T16:11:10.113167Z",
     "start_time": "2024-05-30T16:11:09.981110Z"
    }
   },
   "id": "fdc613ba27373e65"
  },
  {
   "cell_type": "markdown",
   "source": [
    "## 4. Query 20\n",
    "Customer segmentation for return analysis: Customers are separated along the following dimensions: return frequency, return order ratio (total number of orders partially or fully returned versus the total number of orders), return item ratio (total number of items returned versus the number of items purchased), return amount ration (total monetary amount of items returned versus the amount purchased), return order ratio. Consider the store returns during a given year for the computation."
   ],
   "metadata": {
    "collapsed": false
   },
   "id": "ca761e86bda590a5"
  },
  {
   "cell_type": "code",
   "execution_count": 14,
   "outputs": [
    {
     "name": "stdout",
     "output_type": "stream",
     "text": [
      "+-------+----------+----------+-------------+---------+\n",
      "|user_sk|orderRatio|itemsRatio|monetaryRatio|frequency|\n",
      "+-------+----------+----------+-------------+---------+\n",
      "|      2|       0.1| 0.0595745|     0.051983|      3.0|\n",
      "|      3|       0.0|       0.0|          0.0|      0.0|\n",
      "|      4|       0.0|       0.0|          0.0|      0.0|\n",
      "|      7| 0.3333333|      0.04|    0.0175497|      1.0|\n",
      "|     12|       0.0|       0.0|          0.0|      0.0|\n",
      "|     16|       0.0|       0.0|          0.0|      0.0|\n",
      "|     17|       1.0| 0.5714286|    0.2275411|      1.0|\n",
      "|     19|       0.0|       0.0|          0.0|      0.0|\n",
      "|     22|       0.0|       0.0|          0.0|      0.0|\n",
      "|     23|       0.5| 0.1666667|    0.1366843|      1.0|\n",
      "|     30|       0.0|       0.0|          0.0|      0.0|\n",
      "|     31|       1.0|      0.25|    0.4410076|      1.0|\n",
      "|     32|       0.0|       0.0|          0.0|      0.0|\n",
      "|     37|       0.0|       0.0|          0.0|      0.0|\n",
      "|     38|       0.0|       0.0|          0.0|      0.0|\n",
      "|     39|       0.0|       0.0|          0.0|      0.0|\n",
      "|     40|       0.0|       0.0|          0.0|      0.0|\n",
      "|     42|       0.0|       0.0|          0.0|      0.0|\n",
      "|     49|       0.0|       0.0|          0.0|      0.0|\n",
      "|     50|       0.0|       0.0|          0.0|      0.0|\n",
      "+-------+----------+----------+-------------+---------+\n"
     ]
    }
   ],
   "source": [
    "store_sales = get_table(\"store_sales\")\n",
    "store_returns = get_table(\"store_returns\")\n",
    "\n",
    "# Subquery 1: Order statistics\n",
    "orders = store_sales.groupBy(\"ss_customer_sk\").agg(\n",
    "    countDistinct(\"ss_ticket_number\").alias(\"orders_count\"),\n",
    "    count(\"ss_item_sk\").alias(\"orders_items\"),\n",
    "    sum(\"ss_net_paid\").alias(\"orders_money\")\n",
    ")\n",
    "\n",
    "# Subquery 2: Return statistics\n",
    "returns = store_returns.groupBy(\"sr_customer_sk\").agg(\n",
    "    countDistinct(\"sr_ticket_number\").alias(\"returns_count\"),\n",
    "    count(\"sr_item_sk\").alias(\"returns_items\"),\n",
    "    sum(\"sr_return_amt\").alias(\"returns_money\")\n",
    ")\n",
    "\n",
    "# Join subqueries and calculate ratios\n",
    "query20_solution = orders.join(returns, orders.ss_customer_sk == returns.sr_customer_sk, \"left_outer\") \\\n",
    "    .select(\n",
    "        col(\"ss_customer_sk\").alias(\"user_sk\"),\n",
    "        round(\n",
    "            when(\n",
    "                (col(\"returns_count\").isNull()) | (col(\"orders_count\").isNull()) | ((col(\"returns_count\") / col(\"orders_count\")).isNull()), \n",
    "                0.0\n",
    "            ).otherwise(col(\"returns_count\") / col(\"orders_count\")), 7\n",
    "        ).alias(\"orderRatio\"),\n",
    "        round(\n",
    "            when(\n",
    "                (col(\"returns_items\").isNull()) | (col(\"orders_items\").isNull()) | ((col(\"returns_items\") / col(\"orders_items\")).isNull()), \n",
    "                0.0\n",
    "            ).otherwise(col(\"returns_items\") / col(\"orders_items\")), 7\n",
    "        ).alias(\"itemsRatio\"),\n",
    "        round(\n",
    "            when(\n",
    "                (col(\"returns_money\").isNull()) | (col(\"orders_money\").isNull()) | ((col(\"returns_money\") / col(\"orders_money\")).isNull()), \n",
    "                0.0\n",
    "            ).otherwise(col(\"returns_money\") / col(\"orders_money\")), 7\n",
    "        ).alias(\"monetaryRatio\"),\n",
    "        round(\n",
    "            when(col(\"returns_count\").isNull(), 0.0).otherwise(col(\"returns_count\")), 0\n",
    "        ).alias(\"frequency\")\n",
    "    )\n",
    "\n",
    "# Sort by user_sk\n",
    "query20_solution = query20_solution.orderBy(\"user_sk\")\n",
    "\n",
    "query20_solution.show()"
   ],
   "metadata": {
    "collapsed": false,
    "ExecuteTime": {
     "end_time": "2024-05-30T16:14:46.196916Z",
     "start_time": "2024-05-30T16:14:44.293675Z"
    }
   },
   "id": "3d8a593d9da5e6e4"
  },
  {
   "cell_type": "code",
   "execution_count": 15,
   "outputs": [
    {
     "name": "stdout",
     "output_type": "stream",
     "text": [
      "+-------+----------+----------+-------------+---------+\r\n",
      "|user_sk|orderRatio|itemsRatio|monetaryRatio|frequency|\r\n",
      "+-------+----------+----------+-------------+---------+\r\n",
      "|      2|       0.1| 0.0595745|     0.051983|        3|\r\n",
      "|      3|       0.0|       0.0|          0.0|        0|\r\n",
      "|      4|       0.0|       0.0|          0.0|        0|\r\n",
      "|      7| 0.3333333|      0.04|    0.0175497|        1|\r\n",
      "|     12|       0.0|       0.0|          0.0|        0|\r\n",
      "|     16|       0.0|       0.0|          0.0|        0|\r\n",
      "|     17|       1.0| 0.5714286|    0.2275411|        1|\r\n",
      "|     19|       0.0|       0.0|          0.0|        0|\r\n",
      "|     22|       0.0|       0.0|          0.0|        0|\r\n",
      "|     23|       0.5| 0.1666667|    0.1366843|        1|\r\n",
      "|     30|       0.0|       0.0|          0.0|        0|\r\n",
      "|     31|       1.0|      0.25|    0.4410076|        1|\r\n",
      "|     32|       0.0|       0.0|          0.0|        0|\r\n",
      "|     37|       0.0|       0.0|          0.0|        0|\r\n",
      "|     38|       0.0|       0.0|          0.0|        0|\r\n",
      "|     39|       0.0|       0.0|          0.0|        0|\r\n",
      "|     40|       0.0|       0.0|          0.0|        0|\r\n",
      "|     42|       0.0|       0.0|          0.0|        0|\r\n",
      "|     49|       0.0|       0.0|          0.0|        0|\r\n",
      "|     50|       0.0|       0.0|          0.0|        0|\r\n",
      "+-------+----------+----------+-------------+---------+"
     ]
    }
   ],
   "source": [
    "# check the result\n",
    "!cat queries/q20/results/q20-result-queryonly"
   ],
   "metadata": {
    "collapsed": false,
    "ExecuteTime": {
     "end_time": "2024-05-30T16:14:56.602891Z",
     "start_time": "2024-05-30T16:14:56.466644Z"
    }
   },
   "id": "7ab300fbf6eaf70c"
  }
 ],
 "metadata": {
  "kernelspec": {
   "display_name": "Python 3",
   "language": "python",
   "name": "python3"
  },
  "language_info": {
   "codemirror_mode": {
    "name": "ipython",
    "version": 2
   },
   "file_extension": ".py",
   "mimetype": "text/x-python",
   "name": "python",
   "nbconvert_exporter": "python",
   "pygments_lexer": "ipython2",
   "version": "2.7.6"
  }
 },
 "nbformat": 4,
 "nbformat_minor": 5
}
