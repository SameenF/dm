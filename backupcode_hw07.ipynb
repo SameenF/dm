{
 "cells": [
  {
   "cell_type": "markdown",
   "source": [
    "Dear tutor, there is something wrong with my IDE. I can change the file locally but cannot save my solution.\n",
    "I also tried to upload my code to my personal Github repository but still cannot save the local change.\n",
    "Although I could save the result of my spark code.\n",
    "\n",
    "So I will put my code in this file. If you copy them to the original \"hw07.ipynb\" file and run, it should be fine.\n",
    "All of the solution could get the right result.\n",
    "Thanks so much. I am so sorry for this problem.\n",
    "\n"
   ],
   "metadata": {
    "collapsed": false
   },
   "id": "38b2439a33ce500f"
  },
  {
   "cell_type": "code",
   "execution_count": null,
   "outputs": [],
   "source": [
    "from pyspark.sql import SparkSession\n",
    "from pyspark.sql.functions import *\n",
    "\n",
    "# when run locally, spark has one (master) node with its own jvm and no cluster manager is created\n",
    "spark = SparkSession.builder.master(\"local\").appName(\"Homework 07\").getOrCreate()\n",
    "\n",
    "spark"
   ],
   "metadata": {
    "collapsed": false
   },
   "id": "daf62a7cbe9ac122"
  },
  {
   "cell_type": "code",
   "execution_count": null,
   "outputs": [],
   "source": [
    "# load table from TPCxx-BB dataset. Returning a dataframe read from parquet format\n",
    "get_table = lambda table: spark.read.option(\"header\", \"true\").parquet(\n",
    "    f\"TPCx-BB-dataset/{table}.ptxt\"\n",
    ")"
   ],
   "metadata": {
    "collapsed": false
   },
   "id": "c5679aca4a51d9c"
  },
  {
   "cell_type": "markdown",
   "source": [
    "## Query 07\n",
    "List top 10 states in descending order with at least 10 customers who during a given month bought products with the price tag at least 20% higher than the average price of products in the same category."
   ],
   "metadata": {
    "collapsed": false
   },
   "id": "e75d8a6ffa99c261"
  },
  {
   "cell_type": "code",
   "execution_count": null,
   "outputs": [],
   "source": [
    "# implementation\n",
    "\n",
    "item = get_table(\"item\")\n",
    "\n",
    "# Define high price ratio\n",
    "q07_HIGHER_PRICE_RATIO = 1.2\n",
    "\n",
    "# Calculate the average price for each category and calculate the high price threshold\n",
    "category_avg_price = item.groupBy(\"i_category\").agg(\n",
    "    (avg(\"i_current_price\") * q07_HIGHER_PRICE_RATIO).alias(\"avg_price\")\n",
    ")\n",
    "\n",
    "# Rename columns to avoid column name conflicts when joining\n",
    "item = item.withColumnRenamed(\"i_category\", \"item_category\")\n",
    "item = item.withColumnRenamed(\"i_current_price\", \"item_price\")\n",
    "\n",
    "# Connect DataFrame and filter out high-priced items\n",
    "high_price_items = (item.join(category_avg_price, item.item_category == category_avg_price.i_category)\n",
    "    .filter(item.item_price > category_avg_price.avg_price)\n",
    "    .select(item.i_item_sk)\n",
    ")\n",
    "\n",
    "customer_address = get_table(\"customer_address\")\n",
    "customer = get_table(\"customer\")\n",
    "store_sales = get_table(\"store_sales\")\n",
    "date_dim = get_table(\"date_dim\")\n",
    "\n",
    "q07_YEAR = 2004\n",
    "q07_MONTH = 7\n",
    "q07_HAVING_COUNT_GE = 10\n",
    "q07_LIMIT = 10\n",
    "\n",
    "# Extract all dates of a specific month from date_dim\n",
    "selected_dates = date_dim.filter(\n",
    "    (date_dim.d_year == q07_YEAR) & (date_dim.d_moy == q07_MONTH)\n",
    ").select(\"d_date_sk\").rdd.map(lambda row: row[0]).collect()\n",
    "\n",
    "query7_solution = (customer_address\n",
    "    .join(customer, customer_address.ca_address_sk == customer.c_current_addr_sk)\n",
    "    .join(store_sales, customer.c_customer_sk == store_sales.ss_customer_sk)\n",
    "    .join(high_price_items, store_sales.ss_item_sk == high_price_items.i_item_sk)\n",
    "    .filter(store_sales.ss_sold_date_sk.isin(selected_dates))\n",
    "    .filter(customer_address.ca_state.isNotNull())\n",
    "    .groupBy(customer_address.ca_state)\n",
    "    .agg(count(\"*\").alias(\"cnt\"))\n",
    "    .filter(col(\"cnt\") >= q07_HAVING_COUNT_GE)\n",
    "    .orderBy(col(\"cnt\"), ascending=False)\n",
    "    .limit(q07_LIMIT)\n",
    ")\n",
    "\n",
    "query7_solution.show()\n"
   ],
   "metadata": {
    "collapsed": false
   },
   "id": "f978a5c52e5e01a3"
  }
 ],
 "metadata": {
  "kernelspec": {
   "display_name": "Python 3",
   "language": "python",
   "name": "python3"
  },
  "language_info": {
   "codemirror_mode": {
    "name": "ipython",
    "version": 2
   },
   "file_extension": ".py",
   "mimetype": "text/x-python",
   "name": "python",
   "nbconvert_exporter": "python",
   "pygments_lexer": "ipython2",
   "version": "2.7.6"
  }
 },
 "nbformat": 4,
 "nbformat_minor": 5
}
